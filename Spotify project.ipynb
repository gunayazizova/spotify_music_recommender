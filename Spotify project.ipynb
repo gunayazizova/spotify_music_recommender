{
 "cells": [
  {
   "cell_type": "code",
   "execution_count": null,
   "id": "9ef19d0e-7eed-42bd-bdf2-bc622456466d",
   "metadata": {},
   "outputs": [],
   "source": [
    "!pip install spotipy pandas python-dotenv"
   ]
  },
  {
   "cell_type": "code",
   "execution_count": null,
   "id": "3e2606d5-326d-4db9-ba9a-84f70db9e4d3",
   "metadata": {},
   "outputs": [],
   "source": [
    "import spotipy\n",
    "from spotipy.oauth2 import SpotifyClientCredentials\n",
    "import pandas as pd\n",
    "import json\n",
    "import os\n",
    "from dotenv import load_dotenv"
   ]
  },
  {
   "cell_type": "code",
   "execution_count": 7,
   "id": "c2768573-131f-4824-b3de-acce591d0ed1",
   "metadata": {},
   "outputs": [
    {
     "name": "stdout",
     "output_type": "stream",
     "text": [
      "{'artists': {'href': 'https://api.spotify.com/v1/search?query=artist%3ADrake&type=artist&offset=0&limit=10', 'items': [{'external_urls': {'spotify': 'https://open.spotify.com/artist/3TVXtAsR1Inumwj472S9r4'}, 'followers': {'href': None, 'total': 93398887}, 'genres': ['canadian hip hop', 'canadian pop', 'hip hop', 'pop rap', 'rap'], 'href': 'https://api.spotify.com/v1/artists/3TVXtAsR1Inumwj472S9r4', 'id': '3TVXtAsR1Inumwj472S9r4', 'images': [{'height': 640, 'url': 'https://i.scdn.co/image/ab6761610000e5eb4293385d324db8558179afd9', 'width': 640}, {'height': 320, 'url': 'https://i.scdn.co/image/ab676161000051744293385d324db8558179afd9', 'width': 320}, {'height': 160, 'url': 'https://i.scdn.co/image/ab6761610000f1784293385d324db8558179afd9', 'width': 160}], 'name': 'Drake', 'popularity': 96, 'type': 'artist', 'uri': 'spotify:artist:3TVXtAsR1Inumwj472S9r4'}, {'external_urls': {'spotify': 'https://open.spotify.com/artist/0p4ViyfJUTW0IT4SCBLexf'}, 'followers': {'href': None, 'total': 396936}, 'genres': ['cali rap'], 'href': 'https://api.spotify.com/v1/artists/0p4ViyfJUTW0IT4SCBLexf', 'id': '0p4ViyfJUTW0IT4SCBLexf', 'images': [{'height': 640, 'url': 'https://i.scdn.co/image/ab6761610000e5eba603aef1d62687aa6af6f01f', 'width': 640}, {'height': 320, 'url': 'https://i.scdn.co/image/ab67616100005174a603aef1d62687aa6af6f01f', 'width': 320}, {'height': 160, 'url': 'https://i.scdn.co/image/ab6761610000f178a603aef1d62687aa6af6f01f', 'width': 160}], 'name': 'Drakeo the Ruler', 'popularity': 62, 'type': 'artist', 'uri': 'spotify:artist:0p4ViyfJUTW0IT4SCBLexf'}, {'external_urls': {'spotify': 'https://open.spotify.com/artist/5c3GLXai8YOMid29ZEuR9y'}, 'followers': {'href': None, 'total': 853786}, 'genres': ['british folk', 'folk', 'melancholia', 'singer-songwriter'], 'href': 'https://api.spotify.com/v1/artists/5c3GLXai8YOMid29ZEuR9y', 'id': '5c3GLXai8YOMid29ZEuR9y', 'images': [{'height': 1484, 'url': 'https://i.scdn.co/image/d364b498f85ae764cd278fbba9a8ed7f00c3e434', 'width': 1000}, {'height': 950, 'url': 'https://i.scdn.co/image/087fb05851e498c2791ca99000acf35b0fd49f19', 'width': 640}, {'height': 297, 'url': 'https://i.scdn.co/image/9a74a7d885abe5da94ac812546d0146cfe4a1ceb', 'width': 200}, {'height': 95, 'url': 'https://i.scdn.co/image/267080662cf3c019ea8020a4e0e8dd5a7be4d909', 'width': 64}], 'name': 'Nick Drake', 'popularity': 63, 'type': 'artist', 'uri': 'spotify:artist:5c3GLXai8YOMid29ZEuR9y'}, {'external_urls': {'spotify': 'https://open.spotify.com/artist/4mskfuiHWZ3nX3qAdeaGiR'}, 'followers': {'href': None, 'total': 210006}, 'genres': [], 'href': 'https://api.spotify.com/v1/artists/4mskfuiHWZ3nX3qAdeaGiR', 'id': '4mskfuiHWZ3nX3qAdeaGiR', 'images': [{'height': 640, 'url': 'https://i.scdn.co/image/ab6761610000e5eb4e64411f2f0155d1af9a7c19', 'width': 640}, {'height': 320, 'url': 'https://i.scdn.co/image/ab676161000051744e64411f2f0155d1af9a7c19', 'width': 320}, {'height': 160, 'url': 'https://i.scdn.co/image/ab6761610000f1784e64411f2f0155d1af9a7c19', 'width': 160}], 'name': 'Drake Milligan', 'popularity': 57, 'type': 'artist', 'uri': 'spotify:artist:4mskfuiHWZ3nX3qAdeaGiR'}, {'external_urls': {'spotify': 'https://open.spotify.com/artist/29ijED2bnnprp2TciAK1aO'}, 'followers': {'href': None, 'total': 129336}, 'genres': ['modern country rock'], 'href': 'https://api.spotify.com/v1/artists/29ijED2bnnprp2TciAK1aO', 'id': '29ijED2bnnprp2TciAK1aO', 'images': [{'height': 640, 'url': 'https://i.scdn.co/image/ab6761610000e5ebfcdf7ed1c10fd9f03bd2e14e', 'width': 640}, {'height': 320, 'url': 'https://i.scdn.co/image/ab67616100005174fcdf7ed1c10fd9f03bd2e14e', 'width': 320}, {'height': 160, 'url': 'https://i.scdn.co/image/ab6761610000f178fcdf7ed1c10fd9f03bd2e14e', 'width': 160}], 'name': 'Drake White', 'popularity': 50, 'type': 'artist', 'uri': 'spotify:artist:29ijED2bnnprp2TciAK1aO'}, {'external_urls': {'spotify': 'https://open.spotify.com/artist/03ilIKH0i08IxmjKcn63ne'}, 'followers': {'href': None, 'total': 420721}, 'genres': [], 'href': 'https://api.spotify.com/v1/artists/03ilIKH0i08IxmjKcn63ne', 'id': '03ilIKH0i08IxmjKcn63ne', 'images': [{'height': 640, 'url': 'https://i.scdn.co/image/ab6761610000e5ebf022697d475649654541eecc', 'width': 640}, {'height': 320, 'url': 'https://i.scdn.co/image/ab67616100005174f022697d475649654541eecc', 'width': 320}, {'height': 160, 'url': 'https://i.scdn.co/image/ab6761610000f178f022697d475649654541eecc', 'width': 160}], 'name': 'Drake Bell', 'popularity': 52, 'type': 'artist', 'uri': 'spotify:artist:03ilIKH0i08IxmjKcn63ne'}, {'external_urls': {'spotify': 'https://open.spotify.com/artist/3FAHbk1rUdevR4DtNIG5h4'}, 'followers': {'href': None, 'total': 276}, 'genres': [], 'href': 'https://api.spotify.com/v1/artists/3FAHbk1rUdevR4DtNIG5h4', 'id': '3FAHbk1rUdevR4DtNIG5h4', 'images': [{'height': 640, 'url': 'https://i.scdn.co/image/ab67616d0000b2732081b28fb625cfdee0b61f61', 'width': 640}, {'height': 300, 'url': 'https://i.scdn.co/image/ab67616d00001e022081b28fb625cfdee0b61f61', 'width': 300}, {'height': 64, 'url': 'https://i.scdn.co/image/ab67616d000048512081b28fb625cfdee0b61f61', 'width': 64}], 'name': 'Drake Jr', 'popularity': 38, 'type': 'artist', 'uri': 'spotify:artist:3FAHbk1rUdevR4DtNIG5h4'}, {'external_urls': {'spotify': 'https://open.spotify.com/artist/4NYx2GcZWwIW3glF0dW1fC'}, 'followers': {'href': None, 'total': 65498}, 'genres': ['singer-songwriter pop'], 'href': 'https://api.spotify.com/v1/artists/4NYx2GcZWwIW3glF0dW1fC', 'id': '4NYx2GcZWwIW3glF0dW1fC', 'images': [{'height': 640, 'url': 'https://i.scdn.co/image/ab6761610000e5eb1bfa387c66f05f962b8fcdfa', 'width': 640}, {'height': 320, 'url': 'https://i.scdn.co/image/ab676161000051741bfa387c66f05f962b8fcdfa', 'width': 320}, {'height': 160, 'url': 'https://i.scdn.co/image/ab6761610000f1781bfa387c66f05f962b8fcdfa', 'width': 160}], 'name': 'Rowan Drake', 'popularity': 44, 'type': 'artist', 'uri': 'spotify:artist:4NYx2GcZWwIW3glF0dW1fC'}, {'external_urls': {'spotify': 'https://open.spotify.com/artist/2y7pPMQioLwMFUKhK9Pyow'}, 'followers': {'href': None, 'total': 22290}, 'genres': ['british singer-songwriter'], 'href': 'https://api.spotify.com/v1/artists/2y7pPMQioLwMFUKhK9Pyow', 'id': '2y7pPMQioLwMFUKhK9Pyow', 'images': [{'height': 640, 'url': 'https://i.scdn.co/image/ab6761610000e5eb9bc14dd39afc170c9e12a892', 'width': 640}, {'height': 320, 'url': 'https://i.scdn.co/image/ab676161000051749bc14dd39afc170c9e12a892', 'width': 320}, {'height': 160, 'url': 'https://i.scdn.co/image/ab6761610000f1789bc14dd39afc170c9e12a892', 'width': 160}], 'name': 'Eleni Drake', 'popularity': 42, 'type': 'artist', 'uri': 'spotify:artist:2y7pPMQioLwMFUKhK9Pyow'}, {'external_urls': {'spotify': 'https://open.spotify.com/artist/1xDIDfyzRo8HNGsLp4JfzO'}, 'followers': {'href': None, 'total': 2102}, 'genres': [], 'href': 'https://api.spotify.com/v1/artists/1xDIDfyzRo8HNGsLp4JfzO', 'id': '1xDIDfyzRo8HNGsLp4JfzO', 'images': [], 'name': 'Ludwig Von Drake', 'popularity': 35, 'type': 'artist', 'uri': 'spotify:artist:1xDIDfyzRo8HNGsLp4JfzO'}], 'limit': 10, 'next': 'https://api.spotify.com/v1/search?query=artist%3ADrake&type=artist&offset=10&limit=10', 'offset': 0, 'previous': None, 'total': 100}}\n"
     ]
    }
   ],
   "source": [
    "# Load credentials\n",
    "client_id = \"c40d6c4b55b54bafaa200b31ec007f97\"\n",
    "client_secret = \"8aa2b84215494697832a9a83b45bd1b4\"\n",
    "\n",
    "# Authenticate\n",
    "sp = spotipy.Spotify(auth_manager=SpotifyClientCredentials(client_id=client_id, client_secret=client_secret))\n",
    "\n",
    "# Use the API\n",
    "results = sp.search(q='artist:Drake', type='artist')\n",
    "print(results)"
   ]
  },
  {
   "cell_type": "code",
   "execution_count": 17,
   "id": "bb07f9a8-981b-42d4-b805-e918c7b263a1",
   "metadata": {},
   "outputs": [
    {
     "name": "stdout",
     "output_type": "stream",
     "text": [
      "Access token: BQAYNFTAldzjaSJy2LFj5Rb-I7_wuVeiy-dxsaqbGjHw1KVSXIvtHMNT9F9DglaFx4Mq0jmIpLRvVL2Uz45cFS_qzwqPDZ-LOov21SnnO3KJ-0fjOMg\n",
      "Failed to get track details. Status code: 404\n",
      "{\"error\": {\"status\": 404, \"message\": \"Resource not found\" } }\n"
     ]
    }
   ],
   "source": [
    "import requests\n",
    "import base64\n",
    "\n",
    "# Set your client_id and client_secret\n",
    "client_id = \"c40d6c4b55b54bafaa200b31ec007f97\"\n",
    "client_secret = \"8aa2b84215494697832a9a83b45bd1b4\"\n",
    "\n",
    "# Base64 encode the client credentials\n",
    "client_credentials = f\"{client_id}:{client_secret}\"\n",
    "client_credentials_b64 = base64.b64encode(client_credentials.encode()).decode()\n",
    "\n",
    "# Get access token from Spotify\n",
    "auth_url = \"https://accounts.spotify.com/api/token\"\n",
    "auth_data = {'grant_type': 'client_credentials'}\n",
    "auth_header = {\n",
    "    'Authorization': f'Basic {client_credentials_b64}',\n",
    "    'Content-Type': 'application/x-www-form-urlencoded'\n",
    "}\n",
    "\n",
    "# Make the request to get the access token\n",
    "response = requests.post(auth_url, data=auth_data, headers=auth_header)\n",
    "\n",
    "# Check if the request is successful\n",
    "if response.status_code == 200:\n",
    "    token = response.json()['access_token']\n",
    "    print(f\"Access token: {token}\")\n",
    "else:\n",
    "    print(f\"Failed to get access token. Status code: {response.status_code}\")\n",
    "    print(response.text)  # Print error message from Spotify API\n",
    "\n",
    "# Once we have the token, use it to make a request to the Spotify API\n",
    "\n",
    "# Example: Get information about a track using the access token\n",
    "track_id = \"3n3Ppam7vgaVa1g5O3H4nA\"  # Replace with your track ID\n",
    "track_url = f\"https://api.spotify.com/v1/tracks/{track_id}\"\n",
    "track_headers = {\n",
    "    'Authorization': f'Bearer {token}'\n",
    "}\n",
    "\n",
    "# Make the request to get track details\n",
    "track_response = requests.get(track_url, headers=track_headers)\n",
    "\n",
    "# Check if the track details were successfully retrieved\n",
    "if track_response.status_code == 200:\n",
    "    track_info = track_response.json()\n",
    "    print(track_info)  # Print track information\n",
    "else:\n",
    "    print(f\"Failed to get track details. Status code: {track_response.status_code}\")\n",
    "    print(track_response.text)  # Print error message from Spotify API"
   ]
  },
  {
   "cell_type": "code",
   "execution_count": 1,
   "id": "2e48fbfd-9a7d-4ae6-b4fb-b7d0a21236e3",
   "metadata": {},
   "outputs": [
    {
     "name": "stdout",
     "output_type": "stream",
     "text": [
      "Requirement already satisfied: beautifulsoup4 in c:\\users\\gunay\\anaconda3\\lib\\site-packages (4.12.3)\n",
      "Requirement already satisfied: soupsieve>1.2 in c:\\users\\gunay\\anaconda3\\lib\\site-packages (from beautifulsoup4) (2.5)\n"
     ]
    }
   ],
   "source": [
    "!pip install beautifulsoup4"
   ]
  },
  {
   "cell_type": "code",
   "execution_count": 3,
   "id": "18b8029e-ad85-4841-ae34-d4ea873d1d9b",
   "metadata": {},
   "outputs": [
    {
     "data": {
      "text/plain": [
       "<Response [200]>"
      ]
     },
     "execution_count": 3,
     "metadata": {},
     "output_type": "execute_result"
    }
   ],
   "source": [
    "import requests\n",
    "\n",
    "url = \"https://www.billboard.com/charts/hot-100/\"\n",
    "response = requests.get(url)\n",
    "response"
   ]
  },
  {
   "cell_type": "code",
   "execution_count": 5,
   "id": "c1943903-447e-4ac4-a288-c089c2629b74",
   "metadata": {},
   "outputs": [
    {
     "data": {
      "text/plain": [
       "{'Server': 'nginx', 'Date': 'Mon, 18 Nov 2024 11:04:38 GMT', 'Content-Type': 'text/html; charset=UTF-8', 'Transfer-Encoding': 'chunked', 'Connection': 'keep-alive', 'Vary': 'Accept-Encoding', 'X-hacker': \"If you're reading this, you should visit wpvip.com/careers and apply to join the fun, mention this header.\", 'X-Powered-By': 'WordPress VIP <https://wpvip.com>', 'Host-Header': 'a9130478a60e5f9135f765b23f26593b', 'X-UA-Compatible': 'IE=Edge', 'Content-Security-Policy': \"frame-ancestors 'billboardplayback.com' 'onunblocked.com' 'billboard-staging.nftco.com', upgrade-insecure-requests\", 'Sec-Fetch-Site': 'cross-site', 'Access-Control-Allow-Origin': 'https://billboardplayback.com/', 'Content-Security-Policy-Report-Only': \"default-src data: 'unsafe-inline' 'unsafe-eval' https: blob: http://*.files.wordpress.com wss://www.billboard.com; report-uri https://pmcuri.report-uri.com/r/d/csp/reportOnly\", 'Link': '<https://www.billboard.com/wp-json/>; rel=\"https://api.w.org/\", <https://www.billboard.com/?p=1479786>; rel=shortlink', 'Content-Encoding': 'br', 'Strict-Transport-Security': 'max-age=300', 'cache-control': 'max-age=300, must-revalidate', 'x-rq': 'vie1 111 254 443', 'accept-ranges': 'bytes', 'x-cache': 'HIT'}"
      ]
     },
     "execution_count": 5,
     "metadata": {},
     "output_type": "execute_result"
    }
   ],
   "source": [
    "response.headers"
   ]
  },
  {
   "cell_type": "code",
   "execution_count": 57,
   "id": "ea53ea64-472c-4809-88a0-836b52636d52",
   "metadata": {},
   "outputs": [],
   "source": [
    "from bs4 import BeautifulSoup\n",
    "\n",
    "soup = BeautifulSoup(response.content, \"html.parser\")"
   ]
  },
  {
   "cell_type": "code",
   "execution_count": 59,
   "id": "c3819298-ac14-4ef8-b8d3-928ba8c7806d",
   "metadata": {},
   "outputs": [
    {
     "data": {
      "text/plain": [
       "[<span class=\"text\" itemprop=\"text\">“The world as we have created it is a process of our thinking. It cannot be changed without changing our thinking.”</span>,\n",
       " <span class=\"text\" itemprop=\"text\">“It is our choices, Harry, that show what we truly are, far more than our abilities.”</span>,\n",
       " <span class=\"text\" itemprop=\"text\">“There are only two ways to live your life. One is as though nothing is a miracle. The other is as though everything is a miracle.”</span>,\n",
       " <span class=\"text\" itemprop=\"text\">“The person, be it gentleman or lady, who has not pleasure in a good novel, must be intolerably stupid.”</span>,\n",
       " <span class=\"text\" itemprop=\"text\">“Imperfection is beauty, madness is genius and it's better to be absolutely ridiculous than absolutely boring.”</span>,\n",
       " <span class=\"text\" itemprop=\"text\">“Try not to become a man of success. Rather become a man of value.”</span>,\n",
       " <span class=\"text\" itemprop=\"text\">“It is better to be hated for what you are than to be loved for what you are not.”</span>,\n",
       " <span class=\"text\" itemprop=\"text\">“I have not failed. I've just found 10,000 ways that won't work.”</span>,\n",
       " <span class=\"text\" itemprop=\"text\">“A woman is like a tea bag; you never know how strong it is until it's in hot water.”</span>,\n",
       " <span class=\"text\" itemprop=\"text\">“A day without sunshine is like, you know, night.”</span>]"
      ]
     },
     "execution_count": 59,
     "metadata": {},
     "output_type": "execute_result"
    }
   ],
   "source": [
    "url = \"https://quotes.toscrape.com/\"\n",
    "response = requests.get(url)\n",
    "response\n",
    "\n",
    "quotes=soup.select(\"span.text\")\n",
    "quotes\n",
    "\n"
   ]
  },
  {
   "cell_type": "code",
   "execution_count": 61,
   "id": "8b7c12ec-cd57-4fa7-b635-71cee69d117d",
   "metadata": {},
   "outputs": [
    {
     "data": {
      "text/plain": [
       "[<small class=\"author\" itemprop=\"author\">Albert Einstein</small>,\n",
       " <small class=\"author\" itemprop=\"author\">J.K. Rowling</small>,\n",
       " <small class=\"author\" itemprop=\"author\">Albert Einstein</small>,\n",
       " <small class=\"author\" itemprop=\"author\">Jane Austen</small>,\n",
       " <small class=\"author\" itemprop=\"author\">Marilyn Monroe</small>,\n",
       " <small class=\"author\" itemprop=\"author\">Albert Einstein</small>,\n",
       " <small class=\"author\" itemprop=\"author\">André Gide</small>,\n",
       " <small class=\"author\" itemprop=\"author\">Thomas A. Edison</small>,\n",
       " <small class=\"author\" itemprop=\"author\">Eleanor Roosevelt</small>,\n",
       " <small class=\"author\" itemprop=\"author\">Steve Martin</small>]"
      ]
     },
     "execution_count": 61,
     "metadata": {},
     "output_type": "execute_result"
    }
   ],
   "source": [
    "url = \"https://quotes.toscrape.com/\"\n",
    "response = requests.get(url)\n",
    "response\n",
    "\n",
    "authors=soup.select(\"small.author\")\n",
    "authors"
   ]
  },
  {
   "cell_type": "code",
   "execution_count": 65,
   "id": "e8b97103-0deb-483a-8e3e-babb9089f3c5",
   "metadata": {},
   "outputs": [
    {
     "data": {
      "text/plain": [
       "['“The world as we have created it is a process of our thinking. It cannot be changed without changing our thinking.”',\n",
       " '“It is our choices, Harry, that show what we truly are, far more than our abilities.”',\n",
       " '“There are only two ways to live your life. One is as though nothing is a miracle. The other is as though everything is a miracle.”',\n",
       " '“The person, be it gentleman or lady, who has not pleasure in a good novel, must be intolerably stupid.”',\n",
       " \"“Imperfection is beauty, madness is genius and it's better to be absolutely ridiculous than absolutely boring.”\",\n",
       " '“Try not to become a man of success. Rather become a man of value.”',\n",
       " '“It is better to be hated for what you are than to be loved for what you are not.”',\n",
       " \"“I have not failed. I've just found 10,000 ways that won't work.”\",\n",
       " \"“A woman is like a tea bag; you never know how strong it is until it's in hot water.”\",\n",
       " '“A day without sunshine is like, you know, night.”']"
      ]
     },
     "execution_count": 65,
     "metadata": {},
     "output_type": "execute_result"
    }
   ],
   "source": [
    "quotes=[ ]\n",
    "for i in soup.select(\"span.text\"):\n",
    "     quotes.append(i.get_text(strip=True))\n",
    "quotes"
   ]
  },
  {
   "cell_type": "code",
   "execution_count": 67,
   "id": "087a0a8b-7ef7-46f1-af74-52c006500cde",
   "metadata": {},
   "outputs": [
    {
     "data": {
      "text/plain": [
       "['“A day without sunshine is like, you know, night.”',\n",
       " '“A day without sunshine is like, you know, night.”',\n",
       " '“A day without sunshine is like, you know, night.”',\n",
       " '“A day without sunshine is like, you know, night.”',\n",
       " '“A day without sunshine is like, you know, night.”',\n",
       " '“A day without sunshine is like, you know, night.”',\n",
       " '“A day without sunshine is like, you know, night.”',\n",
       " '“A day without sunshine is like, you know, night.”',\n",
       " '“A day without sunshine is like, you know, night.”',\n",
       " '“A day without sunshine is like, you know, night.”']"
      ]
     },
     "execution_count": 67,
     "metadata": {},
     "output_type": "execute_result"
    }
   ],
   "source": [
    "authors=[ ]\n",
    "for x in soup.select(\"small.author\"):\n",
    "     authors.append(i.get_text(strip=True))\n",
    "authors"
   ]
  },
  {
   "cell_type": "code",
   "execution_count": 69,
   "id": "ffaa6044-c4fd-439d-a4b9-7fb0b1619fea",
   "metadata": {},
   "outputs": [
    {
     "name": "stdout",
     "output_type": "stream",
     "text": [
      "['“A day without sunshine is like, you know, night.”', '“A day without sunshine is like, you know, night.”', '“A day without sunshine is like, you know, night.”', '“A day without sunshine is like, you know, night.”', '“A day without sunshine is like, you know, night.”', '“A day without sunshine is like, you know, night.”', '“A day without sunshine is like, you know, night.”', '“A day without sunshine is like, you know, night.”', '“A day without sunshine is like, you know, night.”', '“A day without sunshine is like, you know, night.”'] ['“The world as we have created it is a process of our thinking. It cannot be changed without changing our thinking.”', '“It is our choices, Harry, that show what we truly are, far more than our abilities.”', '“There are only two ways to live your life. One is as though nothing is a miracle. The other is as though everything is a miracle.”', '“The person, be it gentleman or lady, who has not pleasure in a good novel, must be intolerably stupid.”', \"“Imperfection is beauty, madness is genius and it's better to be absolutely ridiculous than absolutely boring.”\", '“Try not to become a man of success. Rather become a man of value.”', '“It is better to be hated for what you are than to be loved for what you are not.”', \"“I have not failed. I've just found 10,000 ways that won't work.”\", \"“A woman is like a tea bag; you never know how strong it is until it's in hot water.”\", '“A day without sunshine is like, you know, night.”']\n"
     ]
    }
   ],
   "source": [
    "print(authors, quotes)"
   ]
  },
  {
   "cell_type": "code",
   "execution_count": null,
   "id": "7a4e66d0-d2f8-468a-bfdc-c44fc2255347",
   "metadata": {},
   "outputs": [],
   "source": [
    "soup.select(\"span.j\")[0].text"
   ]
  }
 ],
 "metadata": {
  "kernelspec": {
   "display_name": "Python 3 (ipykernel)",
   "language": "python",
   "name": "python3"
  },
  "language_info": {
   "codemirror_mode": {
    "name": "ipython",
    "version": 3
   },
   "file_extension": ".py",
   "mimetype": "text/x-python",
   "name": "python",
   "nbconvert_exporter": "python",
   "pygments_lexer": "ipython3",
   "version": "3.12.7"
  }
 },
 "nbformat": 4,
 "nbformat_minor": 5
}
